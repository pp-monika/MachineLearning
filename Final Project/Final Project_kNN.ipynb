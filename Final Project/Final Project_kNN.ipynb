{
 "cells": [
  {
   "cell_type": "code",
   "execution_count": 7,
   "id": "8061b1f1",
   "metadata": {},
   "outputs": [],
   "source": [
    "import numpy as np\n",
    "import matplotlib.pyplot as plt\n",
    "from sklearn.datasets import fetch_openml\n",
    "from sklearn.model_selection import train_test_split\n",
    "from sklearn.neighbors import KNeighborsClassifier, NearestCentroid\n",
    "from sklearn.metrics import confusion_matrix, ConfusionMatrixDisplay\n",
    "from sklearn.preprocessing import StandardScaler\n",
    "\n",
    "seed = 1234\n",
    "np.random.seed(seed) "
   ]
  },
  {
   "cell_type": "code",
   "execution_count": 2,
   "id": "3e4254f0",
   "metadata": {},
   "outputs": [],
   "source": [
    "# Load the features and labels for the MNIST dataset\n",
    "mnist_X, mnist_y = fetch_openml('Fashion-MNIST', as_frame=False, return_X_y=True)\n",
    "# Convert labels to integer data type\n",
    "mnist_y = mnist_y.astype(int)"
   ]
  },
  {
   "cell_type": "code",
   "execution_count": 3,
   "id": "a35d15b7",
   "metadata": {},
   "outputs": [],
   "source": [
    "mnist_X_tr, mnist_X_te, mnist_y_tr, mnist_y_te = train_test_split(mnist_X, mnist_y, \n",
    "                                                                  test_size=0.25, random_state=seed, shuffle=True)"
   ]
  },
  {
   "cell_type": "code",
   "execution_count": 4,
   "id": "00e5979f",
   "metadata": {},
   "outputs": [],
   "source": [
    "label_description = {\n",
    "    0: \"T-shirt/top\",\n",
    "    1: \"Trouser\",\n",
    "    2: \"Pullover\",\n",
    "    3: \"Dress\",\n",
    "    4: \"Coat\",\n",
    "    5: \"Sandal\",\n",
    "    6: \"Shirt\",\n",
    "    7: \"Sneaker\",\n",
    "    8: \"Bag\",\n",
    "    9: \"Ankle boot\"\n",
    "}"
   ]
  },
  {
   "cell_type": "code",
   "execution_count": 5,
   "id": "5cd4c10b",
   "metadata": {},
   "outputs": [],
   "source": [
    "mnist_X_val = mnist_X_te[12500:17500]\n",
    "mnist_y_val = mnist_y_te[12500:17500]\n",
    "\n",
    "mnist_X_te = mnist_X_te[:12500]\n",
    "mnist_y_te = mnist_y_te[:12500]"
   ]
  },
  {
   "cell_type": "code",
   "execution_count": null,
   "id": "890211e4",
   "metadata": {},
   "outputs": [],
   "source": [
    "ks = [1, 5, 10, 15, 20, 25, 30, 40, 50]\n",
    "n_tr = [100, 1000, 5000, 10000, 20000, 52500]\n",
    "\n",
    "train_accuracies = []\n",
    "val_accuracies = []\n",
    "\n",
    "for k in ks:\n",
    "    for n in n_tr:\n",
    "        knn = KNeighborsClassifier(n_neighbors = k)\n",
    "        knn.fit(mnist_X_tr[0:n, :], mnist_y_tr[0:n])\n",
    "        \n",
    "        y_pred_train = knn.predict(mnist_X_tr)\n",
    "        train_acc = knn.score(mnist_X_tr[0:n], y_pred_train)\n",
    "        train_accuracies.append([k, n, train_acc])\n",
    "        \n",
    "        y_pred_val = knn.predict(mnist_X_val)\n",
    "        val_acc = knn.score(mnist_X_val, y_pred_val)\n",
    "        val_accuracies.append([k, n, val_acc])\n"
   ]
  },
  {
   "cell_type": "code",
   "execution_count": null,
   "id": "ba7f1a99",
   "metadata": {},
   "outputs": [],
   "source": [
    "fig, axes = plt.subplots()\n",
    "\n",
    "axes.set_xlabel('Regularization Strength')\n",
    "axes.set_ylabel('Accuracy')\n",
    "\n",
    "axes.semilogx(Cs, Cs_train_accuracy, color='blue', label='training dataset')\n",
    "axes.semilogx(Cs, Cs_val_accuracy, color='red', label='validation dataset')\n",
    "\n",
    "axes.legend()"
   ]
  },
  {
   "cell_type": "code",
   "execution_count": null,
   "id": "3830054d",
   "metadata": {},
   "outputs": [],
   "source": [
    "def find_best_acc(acc_list):\n",
    "    max_acc = [0, 0, 0]\n",
    "    \n",
    "    for acc in acc_list:\n",
    "        if acc[2] > max_acc[2]:\n",
    "            max_acc = acc\n",
    "    print(max_acc)\n",
    "    \n",
    "find_best_acc(train_accuracies)\n",
    "find_best_acc(val_accuracies)"
   ]
  }
 ],
 "metadata": {
  "kernelspec": {
   "display_name": "Python 3 (ipykernel)",
   "language": "python",
   "name": "python3"
  },
  "language_info": {
   "codemirror_mode": {
    "name": "ipython",
    "version": 3
   },
   "file_extension": ".py",
   "mimetype": "text/x-python",
   "name": "python",
   "nbconvert_exporter": "python",
   "pygments_lexer": "ipython3",
   "version": "3.10.4"
  }
 },
 "nbformat": 4,
 "nbformat_minor": 5
}
